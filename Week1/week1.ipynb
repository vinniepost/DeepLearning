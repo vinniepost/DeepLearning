{
 "cells": [
  {
   "cell_type": "code",
   "execution_count": 8,
   "metadata": {},
   "outputs": [
    {
     "name": "stdout",
     "output_type": "stream",
     "text": [
      "Epoch 1/15\n",
      "3/3 [==============================] - 1s 90ms/step - loss: 1.1268 - accuracy: 0.1667 - val_loss: 0.9988 - val_accuracy: 0.4583\n",
      "Epoch 2/15\n",
      "3/3 [==============================] - 0s 25ms/step - loss: 0.9850 - accuracy: 0.5625 - val_loss: 0.8881 - val_accuracy: 0.8750\n",
      "Epoch 3/15\n",
      "3/3 [==============================] - 0s 26ms/step - loss: 0.8908 - accuracy: 0.7292 - val_loss: 0.7912 - val_accuracy: 0.8750\n",
      "Epoch 4/15\n",
      "3/3 [==============================] - 0s 25ms/step - loss: 0.7819 - accuracy: 0.7812 - val_loss: 0.7109 - val_accuracy: 0.8750\n",
      "Epoch 5/15\n",
      "3/3 [==============================] - 0s 26ms/step - loss: 0.6979 - accuracy: 0.8125 - val_loss: 0.6415 - val_accuracy: 0.8750\n",
      "Epoch 6/15\n",
      "3/3 [==============================] - 0s 26ms/step - loss: 0.6251 - accuracy: 0.8021 - val_loss: 0.5844 - val_accuracy: 0.8750\n",
      "Epoch 7/15\n",
      "3/3 [==============================] - 0s 26ms/step - loss: 0.5722 - accuracy: 0.8229 - val_loss: 0.5353 - val_accuracy: 0.8750\n",
      "Epoch 8/15\n",
      "3/3 [==============================] - 0s 41ms/step - loss: 0.5192 - accuracy: 0.8125 - val_loss: 0.4940 - val_accuracy: 0.8750\n",
      "Epoch 9/15\n",
      "3/3 [==============================] - 0s 28ms/step - loss: 0.4862 - accuracy: 0.8125 - val_loss: 0.4607 - val_accuracy: 0.9167\n",
      "Epoch 10/15\n",
      "3/3 [==============================] - 0s 30ms/step - loss: 0.4641 - accuracy: 0.8021 - val_loss: 0.4318 - val_accuracy: 0.9167\n",
      "Epoch 11/15\n",
      "3/3 [==============================] - 0s 27ms/step - loss: 0.4181 - accuracy: 0.8125 - val_loss: 0.4111 - val_accuracy: 0.9167\n",
      "Epoch 12/15\n",
      "3/3 [==============================] - 0s 27ms/step - loss: 0.4074 - accuracy: 0.8229 - val_loss: 0.3914 - val_accuracy: 0.9167\n",
      "Epoch 13/15\n",
      "3/3 [==============================] - 0s 29ms/step - loss: 0.3744 - accuracy: 0.8438 - val_loss: 0.3763 - val_accuracy: 0.9167\n",
      "Epoch 14/15\n",
      "3/3 [==============================] - 0s 28ms/step - loss: 0.3593 - accuracy: 0.8542 - val_loss: 0.3602 - val_accuracy: 0.9167\n",
      "Epoch 15/15\n",
      "3/3 [==============================] - 0s 26ms/step - loss: 0.3473 - accuracy: 0.8750 - val_loss: 0.3458 - val_accuracy: 0.9167\n",
      "1/1 - 0s - loss: 0.2735 - accuracy: 0.9333 - 34ms/epoch - 34ms/step\n",
      "\n",
      "Test accuracy: 0.9333333373069763\n"
     ]
    }
   ],
   "source": [
    "import tensorflow as tf\n",
    "from tensorflow import keras\n",
    "from keras import layers\n",
    "from sklearn.model_selection import train_test_split\n",
    "from sklearn.preprocessing import StandardScaler\n",
    "from sklearn.datasets import load_iris\n",
    "\n",
    "#data inladen van Iris\n",
    "iris = load_iris()\n",
    "\n",
    "#data opsplitsen\n",
    "X, y = iris.data, iris.target\n",
    "X_train, X_test, y_train, y_test = train_test_split(X, y, test_size=0.2, random_state=42)\n",
    "\n",
    "#data normaliseren\n",
    "scaler = StandardScaler()\n",
    "X_train = scaler.fit_transform(X_train)\n",
    "X_test = scaler.transform(X_test)\n",
    "\n",
    "model = keras.Sequential([\n",
    "    #input layer\n",
    "    keras.layers.Dense(128, activation='relu', input_shape=(X_train.shape[1],)),\n",
    "    #hidden layers\n",
    "    keras.layers.Dense(64, activation='relu'),\n",
    "    #dropout layer to prevent overfitting\n",
    "    keras.layers.Dropout(0.2),\n",
    "    #output layer\n",
    "    keras.layers.Dense(3, activation='softmax')\n",
    "])\n",
    "\n",
    "model.compile(optimizer='adam',\n",
    "              loss='sparse_categorical_crossentropy',\n",
    "              metrics=['accuracy'])\n",
    "\n",
    "model.fit(X_train, y_train, epochs=15, validation_split=0.2)\n",
    "test_loss, test_acc = model.evaluate(X_test, y_test, verbose=2)\n",
    "print(f'\\nTest accuracy: {test_acc}')"
   ]
  }
 ],
 "metadata": {
  "kernelspec": {
   "display_name": "deeplearning",
   "language": "python",
   "name": "python3"
  },
  "language_info": {
   "codemirror_mode": {
    "name": "ipython",
    "version": 3
   },
   "file_extension": ".py",
   "mimetype": "text/x-python",
   "name": "python",
   "nbconvert_exporter": "python",
   "pygments_lexer": "ipython3",
   "version": "3.11.5"
  }
 },
 "nbformat": 4,
 "nbformat_minor": 2
}
